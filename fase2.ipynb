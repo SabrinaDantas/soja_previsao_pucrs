{
  "nbformat": 4,
  "nbformat_minor": 0,
  "metadata": {
    "colab": {
      "provenance": [],
      "authorship_tag": "ABX9TyM+JTEqTvoZvPmP29h9brGJ"
    },
    "kernelspec": {
      "name": "python3",
      "display_name": "Python 3"
    },
    "language_info": {
      "name": "python"
    }
  },
  "cells": [
    {
      "cell_type": "markdown",
      "source": [
        "# **Projeto de Business Intelligence e Analytics: Análise da Produção de Soja no Paraná**"
      ],
      "metadata": {
        "id": "PabyEdDSbPot"
      }
    },
    {
      "cell_type": "markdown",
      "source": [
        "### **Introdução:**\n",
        "\n",
        "A soja é uma das commodities mais importantes para a economia brasileira, com o Paraná se destacando como o segundo maior produtor nacional. Diante da relevância desse setor, a capacidade de prever a produção futura é um diferencial estratégico para o planejamento logístico, de mercado e de recursos.\n",
        "\n",
        "Este notebook faz parte da **Fase 2 do projeto em BI e Analytics** e apresenta a solução completa para a análise e previsão da produção de soja, utilizando a abordagem de Machine Learning.\n",
        "\n",
        "### **Componentes Principais:**\n",
        "\n",
        "*   **Análise Exploratória**: Investigação dos dados históricos de produção, área plantada, área colhida e rendimento.\n",
        "* **Modelagem Preditiva**: Implementação e comparação de três modelos de previsão: Random Forest, ARIMA e Holt-Winters.\n",
        "* **Avaliação de Desempenho**: Avaliação rigorosa dos modelos usando métricas como MAE, RMSE, R² e MAPE.\n",
        " **Geração de Previsões**: Utilização do modelo de melhor desempenho para gerar previsões mensais e anuais para os próximos anos.\n",
        "\n",
        "### **Conclusão da Análise:**\n",
        "\n",
        "Após a avaliação dos modelos, o **Random Forest** foi identificado como a melhor solução para este problema de previsão, apresentando um MAPE de apenas 1.25% e um R² de 0.97. Os resultados detalhados e as previsões futuras podem ser encontrados nas seções a seguir."
      ],
      "metadata": {
        "id": "w1TH6RJpcAta"
      }
    },
    {
      "cell_type": "markdown",
      "source": [
        "## 1. Instalação de Bibliotecas"
      ],
      "metadata": {
        "id": "U03uyekWa5My"
      }
    },
    {
      "cell_type": "markdown",
      "source": [
        "\n",
        "Para garantir que o ambiente de execução contenha todas as ferramentas necessárias para a análise, instalamos as seguintes bibliotecas:\n",
        "\n",
        "* `numpy<2`: A biblioteca `numpy` é fundamental para operações numéricas em Python. A versão 1.x é instalada para garantir compatibilidade com a biblioteca `pmdarima`, que será usada para o modelo ARIMA.\n",
        "\n",
        "* `pmdarima`: Esta biblioteca é uma extensão da `scikit-learn` e facilita a busca automática dos melhores parâmetros (`p`, `d`, `q`) para o modelo ARIMA."
      ],
      "metadata": {
        "id": "N7bBhGJNdpvD"
      }
    },
    {
      "cell_type": "code",
      "source": [
        "# !pip install \"numpy<2\"\n",
        "# !pip install pmdarima"
      ],
      "metadata": {
        "id": "L5BT0jEJDoIB"
      },
      "execution_count": null,
      "outputs": []
    },
    {
      "cell_type": "code",
      "execution_count": null,
      "metadata": {
        "id": "IDLC9tbPsgId"
      },
      "outputs": [],
      "source": [
        "import pandas as pd\n",
        "import pandas as pd\n",
        "from pmdarima import auto_arima\n",
        "from sklearn.model_selection import train_test_split\n",
        "from sklearn.ensemble import RandomForestRegressor\n",
        "from sklearn.metrics import mean_absolute_error, mean_squared_error, r2_score\n",
        "import numpy as np\n",
        "from statsmodels.tsa.holtwinters import ExponentialSmoothing\n"
      ]
    },
    {
      "cell_type": "markdown",
      "source": [
        "## 2. Carregamento  dos Dados"
      ],
      "metadata": {
        "id": "tvY2wovXpe7Y"
      }
    },
    {
      "cell_type": "markdown",
      "source": [
        "Nesta etapa, os dados históricos sobre a produção de soja no Paraná, provenientes da **base de dados do LSPA/IBGE**, são carregados e unificados. Cada arquivo CSV representa uma variável-chave para o projeto:\n",
        "\n",
        "* `area_plantada_soja_PR_2020-2024.csv`: Dados sobre a área plantada em hectares.\n",
        "\n",
        "* `area_colhida_soja_PR_2020-2024.csv`: Dados sobre a área colhida em hectares.\n",
        "\n",
        "* `producao_soja_PR_2020-2024.csv`: Dados da produção total em toneladas.\n",
        "\n",
        "* `rendimento_soja_PR_2020-2024.csv`: Dados do rendimento médio por hectare.\n",
        "\n",
        "Os arquivos foram lidos utilizando o separador **ponto e vírgula** (`sep=';'`)."
      ],
      "metadata": {
        "id": "edBgvLBKel8-"
      }
    },
    {
      "cell_type": "code",
      "source": [
        "df_plantada= pd.read_csv('area_plantada_soja_PR_2020-2024.csv', sep=';')\n",
        "df_colhida= pd.read_csv('area_colhida_soja_PR_2020-2024.csv', sep=';')\n",
        "df_producao= pd.read_csv('producao_soja_PR_2020-2024.csv', sep=';')\n",
        "df_rendimento= pd.read_csv('rendimento_soja_PR_2020-2024.csv', sep=';')"
      ],
      "metadata": {
        "id": "iBZM0tKTpeLv"
      },
      "execution_count": null,
      "outputs": []
    },
    {
      "cell_type": "code",
      "source": [
        "df_plantada.head()"
      ],
      "metadata": {
        "id": "QOpdZG2Ee_ZF"
      },
      "execution_count": null,
      "outputs": []
    },
    {
      "cell_type": "code",
      "source": [
        "df_colhida.head()"
      ],
      "metadata": {
        "id": "v0EAmtGqfCYj"
      },
      "execution_count": null,
      "outputs": []
    },
    {
      "cell_type": "code",
      "source": [
        "df_producao.head()"
      ],
      "metadata": {
        "id": "lBysb4JyfD-6"
      },
      "execution_count": null,
      "outputs": []
    },
    {
      "cell_type": "code",
      "source": [
        "df_rendimento.head()"
      ],
      "metadata": {
        "id": "hohjHHhKfGFZ"
      },
      "execution_count": null,
      "outputs": []
    },
    {
      "cell_type": "markdown",
      "source": [
        "## 3. Limpeza, Transformação e Unificação dos Dados"
      ],
      "metadata": {
        "id": "TOKTxNEMpZBS"
      }
    },
    {
      "cell_type": "markdown",
      "source": [
        "Nesta etapa, os DataFrames individuais são limpos e transformados para garantir que estejam prontos para a análise. O objetivo é remover dados desnecessários, padronizar o formato e unificar todas as informações em um único DataFrame coeso."
      ],
      "metadata": {
        "id": "FYVw5fD8gLfL"
      }
    },
    {
      "cell_type": "markdown",
      "source": [
        "A seguir, a função `apagar_linhas` é usada para remover linhas de cabeçalho e rodapé que podem estar presentes nos arquivos, garantindo que apenas os dados válidos sejam mantidos."
      ],
      "metadata": {
        "id": "wKlFLLl6gUAc"
      }
    },
    {
      "cell_type": "code",
      "source": [
        "# Define uma função para remover linhas indesejadas dos DataFrames\n",
        "def apagar_linhas(df):\n",
        "    # Remove a primeira linha (index 0)\n",
        "    df = df.iloc[1:].reset_index(drop=True)\n",
        "\n",
        "    # Se a última linha tiver todos os valores NaN, remove\n",
        "    if df.tail(1).isna().all(axis=1).iloc[0]:\n",
        "        df = df.iloc[:-1].reset_index(drop=True)\n",
        "\n",
        "    return df"
      ],
      "metadata": {
        "id": "DuClwGqApdVC"
      },
      "execution_count": null,
      "outputs": []
    },
    {
      "cell_type": "code",
      "source": [
        "# Aplica a função de limpeza a cada um dos DataFrames\n",
        "df_plantada= apagar_linhas(df_plantada)\n",
        "df_colhida= apagar_linhas(df_colhida)\n",
        "df_producao= apagar_linhas(df_producao)\n",
        "df_rendimento= apagar_linhas(df_rendimento)"
      ],
      "metadata": {
        "id": "Hi6x80F4puAS"
      },
      "execution_count": null,
      "outputs": []
    },
    {
      "cell_type": "code",
      "source": [
        "df_plantada.head()"
      ],
      "metadata": {
        "colab": {
          "base_uri": "https://localhost:8080/",
          "height": 147
        },
        "id": "SIAjfrEirHzg",
        "outputId": "ddb18fbc-bb80-462a-d73e-eff024b45c20"
      },
      "execution_count": null,
      "outputs": [
        {
          "output_type": "execute_result",
          "data": {
            "text/plain": [
              "  janeiro 2020 fevereiro 2020 março 2020 abril 2020 maio 2020 junho 2020  \\\n",
              "0      5500482        5501182    5504222    5505872   5503500    5503000   \n",
              "\n",
              "  julho 2020 agosto 2020 setembro 2020 outubro 2020  ... março 2024  \\\n",
              "0    5503200     5505000       5511200      5512600  ...    5815700   \n",
              "\n",
              "  abril 2024 maio 2024 junho 2024 julho 2024 agosto 2024 setembro 2024  \\\n",
              "0    5814700   5819100    5819700    5824800     5835400       5835100   \n",
              "\n",
              "  outubro 2024 novembro 2024 dezembro 2024  \n",
              "0      5835100       5835000       5835000  \n",
              "\n",
              "[1 rows x 60 columns]"
            ],
            "text/html": [
              "\n",
              "  <div id=\"df-788bfddc-38f4-45dc-9b2f-d7a5d13a55ad\" class=\"colab-df-container\">\n",
              "    <div>\n",
              "<style scoped>\n",
              "    .dataframe tbody tr th:only-of-type {\n",
              "        vertical-align: middle;\n",
              "    }\n",
              "\n",
              "    .dataframe tbody tr th {\n",
              "        vertical-align: top;\n",
              "    }\n",
              "\n",
              "    .dataframe thead th {\n",
              "        text-align: right;\n",
              "    }\n",
              "</style>\n",
              "<table border=\"1\" class=\"dataframe\">\n",
              "  <thead>\n",
              "    <tr style=\"text-align: right;\">\n",
              "      <th></th>\n",
              "      <th>janeiro 2020</th>\n",
              "      <th>fevereiro 2020</th>\n",
              "      <th>março 2020</th>\n",
              "      <th>abril 2020</th>\n",
              "      <th>maio 2020</th>\n",
              "      <th>junho 2020</th>\n",
              "      <th>julho 2020</th>\n",
              "      <th>agosto 2020</th>\n",
              "      <th>setembro 2020</th>\n",
              "      <th>outubro 2020</th>\n",
              "      <th>...</th>\n",
              "      <th>março 2024</th>\n",
              "      <th>abril 2024</th>\n",
              "      <th>maio 2024</th>\n",
              "      <th>junho 2024</th>\n",
              "      <th>julho 2024</th>\n",
              "      <th>agosto 2024</th>\n",
              "      <th>setembro 2024</th>\n",
              "      <th>outubro 2024</th>\n",
              "      <th>novembro 2024</th>\n",
              "      <th>dezembro 2024</th>\n",
              "    </tr>\n",
              "  </thead>\n",
              "  <tbody>\n",
              "    <tr>\n",
              "      <th>0</th>\n",
              "      <td>5500482</td>\n",
              "      <td>5501182</td>\n",
              "      <td>5504222</td>\n",
              "      <td>5505872</td>\n",
              "      <td>5503500</td>\n",
              "      <td>5503000</td>\n",
              "      <td>5503200</td>\n",
              "      <td>5505000</td>\n",
              "      <td>5511200</td>\n",
              "      <td>5512600</td>\n",
              "      <td>...</td>\n",
              "      <td>5815700</td>\n",
              "      <td>5814700</td>\n",
              "      <td>5819100</td>\n",
              "      <td>5819700</td>\n",
              "      <td>5824800</td>\n",
              "      <td>5835400</td>\n",
              "      <td>5835100</td>\n",
              "      <td>5835100</td>\n",
              "      <td>5835000</td>\n",
              "      <td>5835000</td>\n",
              "    </tr>\n",
              "  </tbody>\n",
              "</table>\n",
              "<p>1 rows × 60 columns</p>\n",
              "</div>\n",
              "    <div class=\"colab-df-buttons\">\n",
              "\n",
              "  <div class=\"colab-df-container\">\n",
              "    <button class=\"colab-df-convert\" onclick=\"convertToInteractive('df-788bfddc-38f4-45dc-9b2f-d7a5d13a55ad')\"\n",
              "            title=\"Convert this dataframe to an interactive table.\"\n",
              "            style=\"display:none;\">\n",
              "\n",
              "  <svg xmlns=\"http://www.w3.org/2000/svg\" height=\"24px\" viewBox=\"0 -960 960 960\">\n",
              "    <path d=\"M120-120v-720h720v720H120Zm60-500h600v-160H180v160Zm220 220h160v-160H400v160Zm0 220h160v-160H400v160ZM180-400h160v-160H180v160Zm440 0h160v-160H620v160ZM180-180h160v-160H180v160Zm440 0h160v-160H620v160Z\"/>\n",
              "  </svg>\n",
              "    </button>\n",
              "\n",
              "  <style>\n",
              "    .colab-df-container {\n",
              "      display:flex;\n",
              "      gap: 12px;\n",
              "    }\n",
              "\n",
              "    .colab-df-convert {\n",
              "      background-color: #E8F0FE;\n",
              "      border: none;\n",
              "      border-radius: 50%;\n",
              "      cursor: pointer;\n",
              "      display: none;\n",
              "      fill: #1967D2;\n",
              "      height: 32px;\n",
              "      padding: 0 0 0 0;\n",
              "      width: 32px;\n",
              "    }\n",
              "\n",
              "    .colab-df-convert:hover {\n",
              "      background-color: #E2EBFA;\n",
              "      box-shadow: 0px 1px 2px rgba(60, 64, 67, 0.3), 0px 1px 3px 1px rgba(60, 64, 67, 0.15);\n",
              "      fill: #174EA6;\n",
              "    }\n",
              "\n",
              "    .colab-df-buttons div {\n",
              "      margin-bottom: 4px;\n",
              "    }\n",
              "\n",
              "    [theme=dark] .colab-df-convert {\n",
              "      background-color: #3B4455;\n",
              "      fill: #D2E3FC;\n",
              "    }\n",
              "\n",
              "    [theme=dark] .colab-df-convert:hover {\n",
              "      background-color: #434B5C;\n",
              "      box-shadow: 0px 1px 3px 1px rgba(0, 0, 0, 0.15);\n",
              "      filter: drop-shadow(0px 1px 2px rgba(0, 0, 0, 0.3));\n",
              "      fill: #FFFFFF;\n",
              "    }\n",
              "  </style>\n",
              "\n",
              "    <script>\n",
              "      const buttonEl =\n",
              "        document.querySelector('#df-788bfddc-38f4-45dc-9b2f-d7a5d13a55ad button.colab-df-convert');\n",
              "      buttonEl.style.display =\n",
              "        google.colab.kernel.accessAllowed ? 'block' : 'none';\n",
              "\n",
              "      async function convertToInteractive(key) {\n",
              "        const element = document.querySelector('#df-788bfddc-38f4-45dc-9b2f-d7a5d13a55ad');\n",
              "        const dataTable =\n",
              "          await google.colab.kernel.invokeFunction('convertToInteractive',\n",
              "                                                    [key], {});\n",
              "        if (!dataTable) return;\n",
              "\n",
              "        const docLinkHtml = 'Like what you see? Visit the ' +\n",
              "          '<a target=\"_blank\" href=https://colab.research.google.com/notebooks/data_table.ipynb>data table notebook</a>'\n",
              "          + ' to learn more about interactive tables.';\n",
              "        element.innerHTML = '';\n",
              "        dataTable['output_type'] = 'display_data';\n",
              "        await google.colab.output.renderOutput(dataTable, element);\n",
              "        const docLink = document.createElement('div');\n",
              "        docLink.innerHTML = docLinkHtml;\n",
              "        element.appendChild(docLink);\n",
              "      }\n",
              "    </script>\n",
              "  </div>\n",
              "\n",
              "\n",
              "    </div>\n",
              "  </div>\n"
            ],
            "application/vnd.google.colaboratory.intrinsic+json": {
              "type": "dataframe",
              "variable_name": "df_colhida"
            }
          },
          "metadata": {},
          "execution_count": 12
        }
      ]
    },
    {
      "cell_type": "code",
      "source": [
        "df_colhida.head()"
      ],
      "metadata": {
        "id": "mrIoxA83gk5K"
      },
      "execution_count": null,
      "outputs": []
    },
    {
      "cell_type": "code",
      "source": [
        "df_producao.head()"
      ],
      "metadata": {
        "id": "hpDCMeTUgkw5"
      },
      "execution_count": null,
      "outputs": []
    },
    {
      "cell_type": "code",
      "source": [
        "df_rendimento.head()"
      ],
      "metadata": {
        "id": "k2KG769Kgkmi"
      },
      "execution_count": null,
      "outputs": []
    },
    {
      "cell_type": "markdown",
      "source": [
        "Em seguida, os dados, que estavam em formato largo (uma coluna por mês), são transformados para o formato longo usando a função `pd.melt`. Isso cria duas colunas: uma para a data e outra para o valor correspondente."
      ],
      "metadata": {
        "id": "sfmpSaN6gqPP"
      }
    },
    {
      "cell_type": "code",
      "source": [
        "# Converte cada DataFrame do formato \"largo\" para o formato \"longo\"\n",
        "df_plantada = pd.melt(df_plantada, var_name='data', value_name='plantada')\n",
        "df_colhida = pd.melt(df_colhida, var_name='data', value_name='colhida')\n",
        "df_producao = pd.melt(df_producao, var_name='data', value_name='producao')\n",
        "df_rendimento = pd.melt(df_rendimento, var_name='data', value_name='rendimento')"
      ],
      "metadata": {
        "id": "ZjpKCNfkpwh1"
      },
      "execution_count": null,
      "outputs": []
    },
    {
      "cell_type": "markdown",
      "source": [
        "Para facilitar a análise de séries temporais, as datas são formatadas para um padrão consistente (`jan/20`, `fev/20`, `etc.`). Isso é feito através de um dicionário de mapeamento e de uma função dedicada."
      ],
      "metadata": {
        "id": "tuyYtZDYg21X"
      }
    },
    {
      "cell_type": "code",
      "source": [
        "# Mapeia os meses de português para uma abreviação curta\n",
        "MAPA_MESES = {\n",
        "    \"janeiro\": \"jan\", \"fevereiro\": \"fev\", \"março\": \"mar\",\n",
        "    \"abril\": \"abr\", \"maio\": \"mai\", \"junho\": \"jun\",\n",
        "    \"julho\": \"jul\", \"agosto\": \"ago\", \"setembro\": \"set\",\n",
        "    \"outubro\": \"out\", \"novembro\": \"nov\", \"dezembro\": \"dez\"\n",
        "}\n",
        "\n",
        "def formatar_data(df: pd.DataFrame, col_data=\"data\") -> pd.DataFrame:\n",
        "    \"\"\"\n",
        "    Converte 'janeiro 2020' → 'jan/20'.\n",
        "    \"\"\"\n",
        "    # separa mês e ano\n",
        "    partes = df[col_data].str.split(\" \", n=1, expand=True)\n",
        "    mes = partes[0].str.lower()\n",
        "    ano = partes[1]\n",
        "\n",
        "    # converte ano para 2 dígitos\n",
        "    ano2 = ano.str[-2:]\n",
        "\n",
        "    # aplica abreviação\n",
        "    mes_abrev = mes.map(MAPA_MESES)\n",
        "\n",
        "    # monta novo formato\n",
        "    df[col_data] = mes_abrev + \"/\" + ano2\n",
        "    return df"
      ],
      "metadata": {
        "id": "Pa9P847yp3Ct"
      },
      "execution_count": null,
      "outputs": []
    },
    {
      "cell_type": "code",
      "source": [
        "# Aplica a função de formatação de data a cada DataFrame\n",
        "df_plantada = formatar_data(df_plantada, \"data\")\n",
        "df_colhida = formatar_data(df_colhida, \"data\")\n",
        "df_producao = formatar_data(df_producao, \"data\")"
      ],
      "metadata": {
        "id": "g9N2mi0qp47y"
      },
      "execution_count": null,
      "outputs": []
    },
    {
      "cell_type": "code",
      "source": [
        "df_plantada.head()"
      ],
      "metadata": {
        "id": "B0ph9CqDhONG"
      },
      "execution_count": null,
      "outputs": []
    },
    {
      "cell_type": "code",
      "source": [
        "df_colhida.head()"
      ],
      "metadata": {
        "id": "mHbg7X2JhQt8"
      },
      "execution_count": null,
      "outputs": []
    },
    {
      "cell_type": "code",
      "source": [
        "df_producao.head()"
      ],
      "metadata": {
        "id": "jaeAAEV-hSWN"
      },
      "execution_count": null,
      "outputs": []
    },
    {
      "cell_type": "markdown",
      "source": [
        "Finalmente, os quatro DataFrames são mesclados em um único DataFrame chamado `df_soja`. Em seguida, as colunas de data e os tipos de dados são ajustados para garantir que estejam no formato correto para a análise de Machine Learning."
      ],
      "metadata": {
        "id": "7EVB7lGFhWSn"
      }
    },
    {
      "cell_type": "code",
      "source": [
        "# Unifica os DataFrames em um único conjunto de dados completo\n",
        "df_soja = (df_plantada\n",
        "           .merge(df_colhida, on='data')\n",
        "           .merge(df_producao, on='data')\n",
        "           .merge(df_rendimento, on='data'))"
      ],
      "metadata": {
        "id": "PwWGhKiqp-sz"
      },
      "execution_count": null,
      "outputs": []
    },
    {
      "cell_type": "code",
      "source": [
        "# Mapeia as abreviações de mês em português para inglês para a conversão de data\n",
        "meses_pt_en = {\n",
        "    'jan': 'Jan', 'fev': 'Feb', 'mar': 'Mar', 'abr': 'Apr', 'mai': 'May',\n",
        "    'jun': 'Jun', 'jul': 'Jul', 'ago': 'Aug', 'set': 'Sep', 'out': 'Oct',\n",
        "    'nov': 'Nov', 'dez': 'Dec'\n",
        "}\n",
        "\n",
        "# Cria uma nova coluna 'data_datetime' e extrai 'mes' e 'ano'\n",
        "df_soja['data_datetime'] = df_soja['data'].str.split('/').str[0].map(meses_pt_en) + ' ' + df_soja['data'].str.split('/').str[1]\n",
        "df_soja['data_datetime'] = pd.to_datetime(df_soja['data_datetime'], format='%b %y')\n",
        "df_soja['mes'] = df_soja['data_datetime'].dt.strftime('%B')\n",
        "df_soja['ano'] = df_soja['data_datetime'].dt.strftime('%Y')\n",
        "df_soja['data'] = df_soja['data_datetime'].dt.strftime('%Y-%m')\n"
      ],
      "metadata": {
        "id": "vg3FgVNTvvVR"
      },
      "execution_count": null,
      "outputs": []
    },
    {
      "cell_type": "code",
      "source": [
        "# Seleciona as colunas finais\n",
        "df_soja = df_soja[['data', 'mes', 'ano', 'plantada', 'colhida', 'producao', 'rendimento']]\n",
        "\n",
        "# converter a coluna 'data' para o tipo datetime e as outras para numérico\n",
        "df_soja['data'] = pd.to_datetime(df_soja['data'])\n",
        "df_soja[\"plantada\"] = pd.to_numeric(df_soja[\"plantada\"])\n",
        "df_soja[\"colhida\"] = pd.to_numeric(df_soja[\"colhida\"])\n",
        "df_soja[\"producao\"] = pd.to_numeric(df_soja[\"producao\"])\n",
        "df_soja[\"rendimento\"] = pd.to_numeric(df_soja[\"rendimento\"])"
      ],
      "metadata": {
        "id": "uNkUC9qJsGou"
      },
      "execution_count": null,
      "outputs": []
    },
    {
      "cell_type": "code",
      "source": [
        "df_soja.info()"
      ],
      "metadata": {
        "colab": {
          "base_uri": "https://localhost:8080/"
        },
        "id": "ThXiHQZtrYH-",
        "outputId": "b1292255-1272-4e6d-e89e-5fad253c69a2"
      },
      "execution_count": null,
      "outputs": [
        {
          "output_type": "stream",
          "name": "stdout",
          "text": [
            "<class 'pandas.core.frame.DataFrame'>\n",
            "RangeIndex: 60 entries, 0 to 59\n",
            "Data columns (total 7 columns):\n",
            " #   Column      Non-Null Count  Dtype         \n",
            "---  ------      --------------  -----         \n",
            " 0   data        60 non-null     datetime64[ns]\n",
            " 1   mes         60 non-null     object        \n",
            " 2   ano         60 non-null     object        \n",
            " 3   plantada    60 non-null     int64         \n",
            " 4   colhida     60 non-null     int64         \n",
            " 5   producao    60 non-null     int64         \n",
            " 6   rendimento  60 non-null     int64         \n",
            "dtypes: datetime64[ns](1), int64(4), object(2)\n",
            "memory usage: 3.4+ KB\n"
          ]
        }
      ]
    },
    {
      "cell_type": "code",
      "source": [
        "# Salva o DataFrame final tratado em um novo arquivo CSV\n",
        "df_soja.to_csv('df_soja_tratado.csv', index=False)\n",
        "print(\"\\nDados tradados salvos em 'df_soja_tratado.csv'\")"
      ],
      "metadata": {
        "colab": {
          "base_uri": "https://localhost:8080/"
        },
        "id": "WsX44VZnuRqC",
        "outputId": "a52ab35c-fb80-4cf4-f1aa-a2564bc6e924"
      },
      "execution_count": null,
      "outputs": [
        {
          "output_type": "stream",
          "name": "stdout",
          "text": [
            "\n",
            "Dados tradados salvos em 'df_soja_tratado.csv'\n"
          ]
        }
      ]
    },
    {
      "cell_type": "markdown",
      "source": [
        "# RANDOM FLOREST"
      ],
      "metadata": {
        "id": "9lF-wrvBxqaa"
      }
    },
    {
      "cell_type": "code",
      "source": [
        "# 1. Preparar os dados\n",
        "# Definir a variável alvo (y) e as features (X)\n",
        "X = df_soja[['plantada', 'colhida', 'rendimento', 'ano']] # Features\n",
        "y = df_soja['producao'] # Variável alvo"
      ],
      "metadata": {
        "id": "Ij_piwAHxnpK"
      },
      "execution_count": null,
      "outputs": []
    },
    {
      "cell_type": "code",
      "source": [
        "# 2. Dividir os dados em conjuntos de treinamento e teste\n",
        "X_train, X_test, y_train, y_test = train_test_split(X, y, test_size=0.2, random_state=42)"
      ],
      "metadata": {
        "id": "5ffVokeC0-TM"
      },
      "execution_count": null,
      "outputs": []
    },
    {
      "cell_type": "code",
      "source": [
        "# 3. Treinar o modelo\n",
        "# Instanciar e treinar o modelo Random Forest\n",
        "model_rf = RandomForestRegressor(n_estimators=100, random_state=42)\n",
        "model_rf.fit(X_train, y_train)"
      ],
      "metadata": {
        "colab": {
          "base_uri": "https://localhost:8080/",
          "height": 80
        },
        "id": "olevLx6i1AfB",
        "outputId": "a78848f0-6b50-4995-f5f0-6983369e9340"
      },
      "execution_count": null,
      "outputs": [
        {
          "output_type": "execute_result",
          "data": {
            "text/plain": [
              "RandomForestRegressor(random_state=42)"
            ],
            "text/html": [
              "<style>#sk-container-id-2 {\n",
              "  /* Definition of color scheme common for light and dark mode */\n",
              "  --sklearn-color-text: #000;\n",
              "  --sklearn-color-text-muted: #666;\n",
              "  --sklearn-color-line: gray;\n",
              "  /* Definition of color scheme for unfitted estimators */\n",
              "  --sklearn-color-unfitted-level-0: #fff5e6;\n",
              "  --sklearn-color-unfitted-level-1: #f6e4d2;\n",
              "  --sklearn-color-unfitted-level-2: #ffe0b3;\n",
              "  --sklearn-color-unfitted-level-3: chocolate;\n",
              "  /* Definition of color scheme for fitted estimators */\n",
              "  --sklearn-color-fitted-level-0: #f0f8ff;\n",
              "  --sklearn-color-fitted-level-1: #d4ebff;\n",
              "  --sklearn-color-fitted-level-2: #b3dbfd;\n",
              "  --sklearn-color-fitted-level-3: cornflowerblue;\n",
              "\n",
              "  /* Specific color for light theme */\n",
              "  --sklearn-color-text-on-default-background: var(--sg-text-color, var(--theme-code-foreground, var(--jp-content-font-color1, black)));\n",
              "  --sklearn-color-background: var(--sg-background-color, var(--theme-background, var(--jp-layout-color0, white)));\n",
              "  --sklearn-color-border-box: var(--sg-text-color, var(--theme-code-foreground, var(--jp-content-font-color1, black)));\n",
              "  --sklearn-color-icon: #696969;\n",
              "\n",
              "  @media (prefers-color-scheme: dark) {\n",
              "    /* Redefinition of color scheme for dark theme */\n",
              "    --sklearn-color-text-on-default-background: var(--sg-text-color, var(--theme-code-foreground, var(--jp-content-font-color1, white)));\n",
              "    --sklearn-color-background: var(--sg-background-color, var(--theme-background, var(--jp-layout-color0, #111)));\n",
              "    --sklearn-color-border-box: var(--sg-text-color, var(--theme-code-foreground, var(--jp-content-font-color1, white)));\n",
              "    --sklearn-color-icon: #878787;\n",
              "  }\n",
              "}\n",
              "\n",
              "#sk-container-id-2 {\n",
              "  color: var(--sklearn-color-text);\n",
              "}\n",
              "\n",
              "#sk-container-id-2 pre {\n",
              "  padding: 0;\n",
              "}\n",
              "\n",
              "#sk-container-id-2 input.sk-hidden--visually {\n",
              "  border: 0;\n",
              "  clip: rect(1px 1px 1px 1px);\n",
              "  clip: rect(1px, 1px, 1px, 1px);\n",
              "  height: 1px;\n",
              "  margin: -1px;\n",
              "  overflow: hidden;\n",
              "  padding: 0;\n",
              "  position: absolute;\n",
              "  width: 1px;\n",
              "}\n",
              "\n",
              "#sk-container-id-2 div.sk-dashed-wrapped {\n",
              "  border: 1px dashed var(--sklearn-color-line);\n",
              "  margin: 0 0.4em 0.5em 0.4em;\n",
              "  box-sizing: border-box;\n",
              "  padding-bottom: 0.4em;\n",
              "  background-color: var(--sklearn-color-background);\n",
              "}\n",
              "\n",
              "#sk-container-id-2 div.sk-container {\n",
              "  /* jupyter's `normalize.less` sets `[hidden] { display: none; }`\n",
              "     but bootstrap.min.css set `[hidden] { display: none !important; }`\n",
              "     so we also need the `!important` here to be able to override the\n",
              "     default hidden behavior on the sphinx rendered scikit-learn.org.\n",
              "     See: https://github.com/scikit-learn/scikit-learn/issues/21755 */\n",
              "  display: inline-block !important;\n",
              "  position: relative;\n",
              "}\n",
              "\n",
              "#sk-container-id-2 div.sk-text-repr-fallback {\n",
              "  display: none;\n",
              "}\n",
              "\n",
              "div.sk-parallel-item,\n",
              "div.sk-serial,\n",
              "div.sk-item {\n",
              "  /* draw centered vertical line to link estimators */\n",
              "  background-image: linear-gradient(var(--sklearn-color-text-on-default-background), var(--sklearn-color-text-on-default-background));\n",
              "  background-size: 2px 100%;\n",
              "  background-repeat: no-repeat;\n",
              "  background-position: center center;\n",
              "}\n",
              "\n",
              "/* Parallel-specific style estimator block */\n",
              "\n",
              "#sk-container-id-2 div.sk-parallel-item::after {\n",
              "  content: \"\";\n",
              "  width: 100%;\n",
              "  border-bottom: 2px solid var(--sklearn-color-text-on-default-background);\n",
              "  flex-grow: 1;\n",
              "}\n",
              "\n",
              "#sk-container-id-2 div.sk-parallel {\n",
              "  display: flex;\n",
              "  align-items: stretch;\n",
              "  justify-content: center;\n",
              "  background-color: var(--sklearn-color-background);\n",
              "  position: relative;\n",
              "}\n",
              "\n",
              "#sk-container-id-2 div.sk-parallel-item {\n",
              "  display: flex;\n",
              "  flex-direction: column;\n",
              "}\n",
              "\n",
              "#sk-container-id-2 div.sk-parallel-item:first-child::after {\n",
              "  align-self: flex-end;\n",
              "  width: 50%;\n",
              "}\n",
              "\n",
              "#sk-container-id-2 div.sk-parallel-item:last-child::after {\n",
              "  align-self: flex-start;\n",
              "  width: 50%;\n",
              "}\n",
              "\n",
              "#sk-container-id-2 div.sk-parallel-item:only-child::after {\n",
              "  width: 0;\n",
              "}\n",
              "\n",
              "/* Serial-specific style estimator block */\n",
              "\n",
              "#sk-container-id-2 div.sk-serial {\n",
              "  display: flex;\n",
              "  flex-direction: column;\n",
              "  align-items: center;\n",
              "  background-color: var(--sklearn-color-background);\n",
              "  padding-right: 1em;\n",
              "  padding-left: 1em;\n",
              "}\n",
              "\n",
              "\n",
              "/* Toggleable style: style used for estimator/Pipeline/ColumnTransformer box that is\n",
              "clickable and can be expanded/collapsed.\n",
              "- Pipeline and ColumnTransformer use this feature and define the default style\n",
              "- Estimators will overwrite some part of the style using the `sk-estimator` class\n",
              "*/\n",
              "\n",
              "/* Pipeline and ColumnTransformer style (default) */\n",
              "\n",
              "#sk-container-id-2 div.sk-toggleable {\n",
              "  /* Default theme specific background. It is overwritten whether we have a\n",
              "  specific estimator or a Pipeline/ColumnTransformer */\n",
              "  background-color: var(--sklearn-color-background);\n",
              "}\n",
              "\n",
              "/* Toggleable label */\n",
              "#sk-container-id-2 label.sk-toggleable__label {\n",
              "  cursor: pointer;\n",
              "  display: flex;\n",
              "  width: 100%;\n",
              "  margin-bottom: 0;\n",
              "  padding: 0.5em;\n",
              "  box-sizing: border-box;\n",
              "  text-align: center;\n",
              "  align-items: start;\n",
              "  justify-content: space-between;\n",
              "  gap: 0.5em;\n",
              "}\n",
              "\n",
              "#sk-container-id-2 label.sk-toggleable__label .caption {\n",
              "  font-size: 0.6rem;\n",
              "  font-weight: lighter;\n",
              "  color: var(--sklearn-color-text-muted);\n",
              "}\n",
              "\n",
              "#sk-container-id-2 label.sk-toggleable__label-arrow:before {\n",
              "  /* Arrow on the left of the label */\n",
              "  content: \"▸\";\n",
              "  float: left;\n",
              "  margin-right: 0.25em;\n",
              "  color: var(--sklearn-color-icon);\n",
              "}\n",
              "\n",
              "#sk-container-id-2 label.sk-toggleable__label-arrow:hover:before {\n",
              "  color: var(--sklearn-color-text);\n",
              "}\n",
              "\n",
              "/* Toggleable content - dropdown */\n",
              "\n",
              "#sk-container-id-2 div.sk-toggleable__content {\n",
              "  max-height: 0;\n",
              "  max-width: 0;\n",
              "  overflow: hidden;\n",
              "  text-align: left;\n",
              "  /* unfitted */\n",
              "  background-color: var(--sklearn-color-unfitted-level-0);\n",
              "}\n",
              "\n",
              "#sk-container-id-2 div.sk-toggleable__content.fitted {\n",
              "  /* fitted */\n",
              "  background-color: var(--sklearn-color-fitted-level-0);\n",
              "}\n",
              "\n",
              "#sk-container-id-2 div.sk-toggleable__content pre {\n",
              "  margin: 0.2em;\n",
              "  border-radius: 0.25em;\n",
              "  color: var(--sklearn-color-text);\n",
              "  /* unfitted */\n",
              "  background-color: var(--sklearn-color-unfitted-level-0);\n",
              "}\n",
              "\n",
              "#sk-container-id-2 div.sk-toggleable__content.fitted pre {\n",
              "  /* unfitted */\n",
              "  background-color: var(--sklearn-color-fitted-level-0);\n",
              "}\n",
              "\n",
              "#sk-container-id-2 input.sk-toggleable__control:checked~div.sk-toggleable__content {\n",
              "  /* Expand drop-down */\n",
              "  max-height: 200px;\n",
              "  max-width: 100%;\n",
              "  overflow: auto;\n",
              "}\n",
              "\n",
              "#sk-container-id-2 input.sk-toggleable__control:checked~label.sk-toggleable__label-arrow:before {\n",
              "  content: \"▾\";\n",
              "}\n",
              "\n",
              "/* Pipeline/ColumnTransformer-specific style */\n",
              "\n",
              "#sk-container-id-2 div.sk-label input.sk-toggleable__control:checked~label.sk-toggleable__label {\n",
              "  color: var(--sklearn-color-text);\n",
              "  background-color: var(--sklearn-color-unfitted-level-2);\n",
              "}\n",
              "\n",
              "#sk-container-id-2 div.sk-label.fitted input.sk-toggleable__control:checked~label.sk-toggleable__label {\n",
              "  background-color: var(--sklearn-color-fitted-level-2);\n",
              "}\n",
              "\n",
              "/* Estimator-specific style */\n",
              "\n",
              "/* Colorize estimator box */\n",
              "#sk-container-id-2 div.sk-estimator input.sk-toggleable__control:checked~label.sk-toggleable__label {\n",
              "  /* unfitted */\n",
              "  background-color: var(--sklearn-color-unfitted-level-2);\n",
              "}\n",
              "\n",
              "#sk-container-id-2 div.sk-estimator.fitted input.sk-toggleable__control:checked~label.sk-toggleable__label {\n",
              "  /* fitted */\n",
              "  background-color: var(--sklearn-color-fitted-level-2);\n",
              "}\n",
              "\n",
              "#sk-container-id-2 div.sk-label label.sk-toggleable__label,\n",
              "#sk-container-id-2 div.sk-label label {\n",
              "  /* The background is the default theme color */\n",
              "  color: var(--sklearn-color-text-on-default-background);\n",
              "}\n",
              "\n",
              "/* On hover, darken the color of the background */\n",
              "#sk-container-id-2 div.sk-label:hover label.sk-toggleable__label {\n",
              "  color: var(--sklearn-color-text);\n",
              "  background-color: var(--sklearn-color-unfitted-level-2);\n",
              "}\n",
              "\n",
              "/* Label box, darken color on hover, fitted */\n",
              "#sk-container-id-2 div.sk-label.fitted:hover label.sk-toggleable__label.fitted {\n",
              "  color: var(--sklearn-color-text);\n",
              "  background-color: var(--sklearn-color-fitted-level-2);\n",
              "}\n",
              "\n",
              "/* Estimator label */\n",
              "\n",
              "#sk-container-id-2 div.sk-label label {\n",
              "  font-family: monospace;\n",
              "  font-weight: bold;\n",
              "  display: inline-block;\n",
              "  line-height: 1.2em;\n",
              "}\n",
              "\n",
              "#sk-container-id-2 div.sk-label-container {\n",
              "  text-align: center;\n",
              "}\n",
              "\n",
              "/* Estimator-specific */\n",
              "#sk-container-id-2 div.sk-estimator {\n",
              "  font-family: monospace;\n",
              "  border: 1px dotted var(--sklearn-color-border-box);\n",
              "  border-radius: 0.25em;\n",
              "  box-sizing: border-box;\n",
              "  margin-bottom: 0.5em;\n",
              "  /* unfitted */\n",
              "  background-color: var(--sklearn-color-unfitted-level-0);\n",
              "}\n",
              "\n",
              "#sk-container-id-2 div.sk-estimator.fitted {\n",
              "  /* fitted */\n",
              "  background-color: var(--sklearn-color-fitted-level-0);\n",
              "}\n",
              "\n",
              "/* on hover */\n",
              "#sk-container-id-2 div.sk-estimator:hover {\n",
              "  /* unfitted */\n",
              "  background-color: var(--sklearn-color-unfitted-level-2);\n",
              "}\n",
              "\n",
              "#sk-container-id-2 div.sk-estimator.fitted:hover {\n",
              "  /* fitted */\n",
              "  background-color: var(--sklearn-color-fitted-level-2);\n",
              "}\n",
              "\n",
              "/* Specification for estimator info (e.g. \"i\" and \"?\") */\n",
              "\n",
              "/* Common style for \"i\" and \"?\" */\n",
              "\n",
              ".sk-estimator-doc-link,\n",
              "a:link.sk-estimator-doc-link,\n",
              "a:visited.sk-estimator-doc-link {\n",
              "  float: right;\n",
              "  font-size: smaller;\n",
              "  line-height: 1em;\n",
              "  font-family: monospace;\n",
              "  background-color: var(--sklearn-color-background);\n",
              "  border-radius: 1em;\n",
              "  height: 1em;\n",
              "  width: 1em;\n",
              "  text-decoration: none !important;\n",
              "  margin-left: 0.5em;\n",
              "  text-align: center;\n",
              "  /* unfitted */\n",
              "  border: var(--sklearn-color-unfitted-level-1) 1pt solid;\n",
              "  color: var(--sklearn-color-unfitted-level-1);\n",
              "}\n",
              "\n",
              ".sk-estimator-doc-link.fitted,\n",
              "a:link.sk-estimator-doc-link.fitted,\n",
              "a:visited.sk-estimator-doc-link.fitted {\n",
              "  /* fitted */\n",
              "  border: var(--sklearn-color-fitted-level-1) 1pt solid;\n",
              "  color: var(--sklearn-color-fitted-level-1);\n",
              "}\n",
              "\n",
              "/* On hover */\n",
              "div.sk-estimator:hover .sk-estimator-doc-link:hover,\n",
              ".sk-estimator-doc-link:hover,\n",
              "div.sk-label-container:hover .sk-estimator-doc-link:hover,\n",
              ".sk-estimator-doc-link:hover {\n",
              "  /* unfitted */\n",
              "  background-color: var(--sklearn-color-unfitted-level-3);\n",
              "  color: var(--sklearn-color-background);\n",
              "  text-decoration: none;\n",
              "}\n",
              "\n",
              "div.sk-estimator.fitted:hover .sk-estimator-doc-link.fitted:hover,\n",
              ".sk-estimator-doc-link.fitted:hover,\n",
              "div.sk-label-container:hover .sk-estimator-doc-link.fitted:hover,\n",
              ".sk-estimator-doc-link.fitted:hover {\n",
              "  /* fitted */\n",
              "  background-color: var(--sklearn-color-fitted-level-3);\n",
              "  color: var(--sklearn-color-background);\n",
              "  text-decoration: none;\n",
              "}\n",
              "\n",
              "/* Span, style for the box shown on hovering the info icon */\n",
              ".sk-estimator-doc-link span {\n",
              "  display: none;\n",
              "  z-index: 9999;\n",
              "  position: relative;\n",
              "  font-weight: normal;\n",
              "  right: .2ex;\n",
              "  padding: .5ex;\n",
              "  margin: .5ex;\n",
              "  width: min-content;\n",
              "  min-width: 20ex;\n",
              "  max-width: 50ex;\n",
              "  color: var(--sklearn-color-text);\n",
              "  box-shadow: 2pt 2pt 4pt #999;\n",
              "  /* unfitted */\n",
              "  background: var(--sklearn-color-unfitted-level-0);\n",
              "  border: .5pt solid var(--sklearn-color-unfitted-level-3);\n",
              "}\n",
              "\n",
              ".sk-estimator-doc-link.fitted span {\n",
              "  /* fitted */\n",
              "  background: var(--sklearn-color-fitted-level-0);\n",
              "  border: var(--sklearn-color-fitted-level-3);\n",
              "}\n",
              "\n",
              ".sk-estimator-doc-link:hover span {\n",
              "  display: block;\n",
              "}\n",
              "\n",
              "/* \"?\"-specific style due to the `<a>` HTML tag */\n",
              "\n",
              "#sk-container-id-2 a.estimator_doc_link {\n",
              "  float: right;\n",
              "  font-size: 1rem;\n",
              "  line-height: 1em;\n",
              "  font-family: monospace;\n",
              "  background-color: var(--sklearn-color-background);\n",
              "  border-radius: 1rem;\n",
              "  height: 1rem;\n",
              "  width: 1rem;\n",
              "  text-decoration: none;\n",
              "  /* unfitted */\n",
              "  color: var(--sklearn-color-unfitted-level-1);\n",
              "  border: var(--sklearn-color-unfitted-level-1) 1pt solid;\n",
              "}\n",
              "\n",
              "#sk-container-id-2 a.estimator_doc_link.fitted {\n",
              "  /* fitted */\n",
              "  border: var(--sklearn-color-fitted-level-1) 1pt solid;\n",
              "  color: var(--sklearn-color-fitted-level-1);\n",
              "}\n",
              "\n",
              "/* On hover */\n",
              "#sk-container-id-2 a.estimator_doc_link:hover {\n",
              "  /* unfitted */\n",
              "  background-color: var(--sklearn-color-unfitted-level-3);\n",
              "  color: var(--sklearn-color-background);\n",
              "  text-decoration: none;\n",
              "}\n",
              "\n",
              "#sk-container-id-2 a.estimator_doc_link.fitted:hover {\n",
              "  /* fitted */\n",
              "  background-color: var(--sklearn-color-fitted-level-3);\n",
              "}\n",
              "</style><div id=\"sk-container-id-2\" class=\"sk-top-container\"><div class=\"sk-text-repr-fallback\"><pre>RandomForestRegressor(random_state=42)</pre><b>In a Jupyter environment, please rerun this cell to show the HTML representation or trust the notebook. <br />On GitHub, the HTML representation is unable to render, please try loading this page with nbviewer.org.</b></div><div class=\"sk-container\" hidden><div class=\"sk-item\"><div class=\"sk-estimator fitted sk-toggleable\"><input class=\"sk-toggleable__control sk-hidden--visually\" id=\"sk-estimator-id-2\" type=\"checkbox\" checked><label for=\"sk-estimator-id-2\" class=\"sk-toggleable__label fitted sk-toggleable__label-arrow\"><div><div>RandomForestRegressor</div></div><div><a class=\"sk-estimator-doc-link fitted\" rel=\"noreferrer\" target=\"_blank\" href=\"https://scikit-learn.org/1.6/modules/generated/sklearn.ensemble.RandomForestRegressor.html\">?<span>Documentation for RandomForestRegressor</span></a><span class=\"sk-estimator-doc-link fitted\">i<span>Fitted</span></span></div></label><div class=\"sk-toggleable__content fitted\"><pre>RandomForestRegressor(random_state=42)</pre></div> </div></div></div></div>"
            ]
          },
          "metadata": {},
          "execution_count": 34
        }
      ]
    },
    {
      "cell_type": "code",
      "source": [
        "# 4. Fazer previsões no conjunto de teste\n",
        "y_pred = model_rf.predict(X_test)"
      ],
      "metadata": {
        "id": "UCjdq6qo1D09"
      },
      "execution_count": null,
      "outputs": []
    },
    {
      "cell_type": "code",
      "source": [
        "# 5. Avaliar o desempenho do modelo\n",
        "mae_rf = mean_absolute_error(y_test, y_pred)\n",
        "mse_rf = mean_squared_error(y_test, y_pred)\n",
        "rmse_rf = np.sqrt(mse_rf)\n",
        "mape_rf = np.mean(np.abs((y_test - y_pred) / y_test)) * 100\n",
        "r2_rf = r2_score(y_test, y_pred)"
      ],
      "metadata": {
        "id": "A-9BSlz31GjH"
      },
      "execution_count": null,
      "outputs": []
    },
    {
      "cell_type": "code",
      "source": [
        "# Imprimir os resultados\n",
        "print(\"\\nResultados de desempenho do modelo ARIMA:\")\n",
        "print(\"-\" * 40)\n",
        "print(f\"1. Erro Médio Absoluto (MAE): {mae_rf:.2f}\")\n",
        "print(f\"2. Erro Quadrático Médio (MSE): {mse_rf:.2f}\")\n",
        "print(f\"3. Raiz do Erro Quadrático Médio (RMSE): {rmse_rf:.2f}\")\n",
        "print(f\"4. Coeficiente de Determinação (R-quadrado): {r2_rf:.2f}\")\n",
        "print(\"-\" * 40)\n",
        "print(f\"Erro Percentual Médio Absoluto (MAPE): {mape_rf:.2f}%\")"
      ],
      "metadata": {
        "colab": {
          "base_uri": "https://localhost:8080/"
        },
        "id": "Qb6DgU-sRSz2",
        "outputId": "a7b9e6b7-cfd1-4886-e262-ba539282881e"
      },
      "execution_count": null,
      "outputs": [
        {
          "output_type": "stream",
          "name": "stdout",
          "text": [
            "\n",
            "Resultados de desempenho do modelo ARIMA:\n",
            "----------------------------------------\n",
            "1. Erro Médio Absoluto (MAE): 251201.27\n",
            "2. Erro Quadrático Médio (MSE): 211586083378.41\n",
            "3. Raiz do Erro Quadrático Médio (RMSE): 459984.87\n",
            "4. Coeficiente de Determinação (R-quadrado): 0.97\n",
            "----------------------------------------\n",
            "Erro Percentual Médio Absoluto (MAPE): 1.25%\n"
          ]
        }
      ]
    },
    {
      "cell_type": "markdown",
      "source": [
        "# ARIMA"
      ],
      "metadata": {
        "id": "s6VOVV2wKqLo"
      }
    },
    {
      "cell_type": "code",
      "source": [
        "# 1. Preparar os dados\n",
        "# Usaremos apenas a coluna 'producao' para o modelo ARIMA\n",
        "producao_arima = df_soja['producao']"
      ],
      "metadata": {
        "id": "E2mv6FclPGth"
      },
      "execution_count": null,
      "outputs": []
    },
    {
      "cell_type": "code",
      "source": [
        "# 2. Dividir os dados em conjuntos de treinamento e teste\n",
        "# O modelo ARIMA não usa 'train_test_split' da mesma forma, pois a ordem dos dados é importante.\n",
        "# Vamos usar os últimos 12 meses (1 ano) para teste.\n",
        "train_data = producao_arima[:-12]\n",
        "test_data = producao_arima[-12:]"
      ],
      "metadata": {
        "id": "XDlyANP1PHE0"
      },
      "execution_count": null,
      "outputs": []
    },
    {
      "cell_type": "code",
      "source": [
        "# 3. Identificar os parâmetros ARIMA usando auto_arima\n",
        "# Esta função encontra a melhor combinação de p, d, q para o modelo\n",
        "print(\"Buscando os melhores parâmetros para o modelo ARIMA...\")\n",
        "model_fit = auto_arima(train_data, seasonal=True, m=12, trace=True,\n",
        "                       error_action='ignore', suppress_warnings=True)\n",
        "\n",
        "print(\"Melhores parâmetros encontrados:\", model_fit.order)"
      ],
      "metadata": {
        "colab": {
          "base_uri": "https://localhost:8080/"
        },
        "id": "CJ8jA6NUPLXX",
        "outputId": "80b2e9b1-1a95-4de3-a656-49b42489fdc3"
      },
      "execution_count": null,
      "outputs": [
        {
          "output_type": "stream",
          "name": "stdout",
          "text": [
            "Buscando os melhores parâmetros para o modelo ARIMA...\n",
            "Performing stepwise search to minimize aic\n"
          ]
        },
        {
          "output_type": "stream",
          "name": "stderr",
          "text": [
            "/usr/local/lib/python3.12/dist-packages/sklearn/utils/deprecation.py:151: FutureWarning: 'force_all_finite' was renamed to 'ensure_all_finite' in 1.6 and will be removed in 1.8.\n",
            "  warnings.warn(\n",
            "/usr/local/lib/python3.12/dist-packages/sklearn/utils/deprecation.py:151: FutureWarning: 'force_all_finite' was renamed to 'ensure_all_finite' in 1.6 and will be removed in 1.8.\n",
            "  warnings.warn(\n",
            "/usr/local/lib/python3.12/dist-packages/sklearn/utils/deprecation.py:151: FutureWarning: 'force_all_finite' was renamed to 'ensure_all_finite' in 1.6 and will be removed in 1.8.\n",
            "  warnings.warn(\n",
            "/usr/local/lib/python3.12/dist-packages/sklearn/utils/deprecation.py:151: FutureWarning: 'force_all_finite' was renamed to 'ensure_all_finite' in 1.6 and will be removed in 1.8.\n",
            "  warnings.warn(\n",
            "/usr/local/lib/python3.12/dist-packages/sklearn/utils/deprecation.py:151: FutureWarning: 'force_all_finite' was renamed to 'ensure_all_finite' in 1.6 and will be removed in 1.8.\n",
            "  warnings.warn(\n",
            "/usr/local/lib/python3.12/dist-packages/sklearn/utils/deprecation.py:151: FutureWarning: 'force_all_finite' was renamed to 'ensure_all_finite' in 1.6 and will be removed in 1.8.\n",
            "  warnings.warn(\n",
            "/usr/local/lib/python3.12/dist-packages/sklearn/utils/deprecation.py:151: FutureWarning: 'force_all_finite' was renamed to 'ensure_all_finite' in 1.6 and will be removed in 1.8.\n",
            "  warnings.warn(\n",
            "/usr/local/lib/python3.12/dist-packages/sklearn/utils/deprecation.py:151: FutureWarning: 'force_all_finite' was renamed to 'ensure_all_finite' in 1.6 and will be removed in 1.8.\n",
            "  warnings.warn(\n"
          ]
        },
        {
          "output_type": "stream",
          "name": "stdout",
          "text": [
            " ARIMA(2,0,2)(1,0,1)[12] intercept   : AIC=1509.729, Time=0.37 sec\n",
            " ARIMA(0,0,0)(0,0,0)[12] intercept   : AIC=1597.439, Time=0.01 sec\n",
            " ARIMA(1,0,0)(1,0,0)[12] intercept   : AIC=1502.923, Time=0.10 sec\n"
          ]
        },
        {
          "output_type": "stream",
          "name": "stderr",
          "text": [
            "/usr/local/lib/python3.12/dist-packages/sklearn/utils/deprecation.py:151: FutureWarning: 'force_all_finite' was renamed to 'ensure_all_finite' in 1.6 and will be removed in 1.8.\n",
            "  warnings.warn(\n",
            "/usr/local/lib/python3.12/dist-packages/sklearn/utils/deprecation.py:151: FutureWarning: 'force_all_finite' was renamed to 'ensure_all_finite' in 1.6 and will be removed in 1.8.\n",
            "  warnings.warn(\n",
            "/usr/local/lib/python3.12/dist-packages/sklearn/utils/deprecation.py:151: FutureWarning: 'force_all_finite' was renamed to 'ensure_all_finite' in 1.6 and will be removed in 1.8.\n",
            "  warnings.warn(\n"
          ]
        },
        {
          "output_type": "stream",
          "name": "stdout",
          "text": [
            " ARIMA(0,0,1)(0,0,1)[12] intercept   : AIC=1570.415, Time=0.10 sec\n",
            " ARIMA(0,0,0)(0,0,0)[12]             : AIC=1748.050, Time=0.01 sec\n",
            " ARIMA(1,0,0)(0,0,0)[12] intercept   : AIC=1514.480, Time=0.02 sec\n"
          ]
        },
        {
          "output_type": "stream",
          "name": "stderr",
          "text": [
            "/usr/local/lib/python3.12/dist-packages/sklearn/utils/deprecation.py:151: FutureWarning: 'force_all_finite' was renamed to 'ensure_all_finite' in 1.6 and will be removed in 1.8.\n",
            "  warnings.warn(\n",
            "/usr/local/lib/python3.12/dist-packages/sklearn/utils/deprecation.py:151: FutureWarning: 'force_all_finite' was renamed to 'ensure_all_finite' in 1.6 and will be removed in 1.8.\n",
            "  warnings.warn(\n",
            "/usr/local/lib/python3.12/dist-packages/sklearn/utils/deprecation.py:151: FutureWarning: 'force_all_finite' was renamed to 'ensure_all_finite' in 1.6 and will be removed in 1.8.\n",
            "  warnings.warn(\n"
          ]
        },
        {
          "output_type": "stream",
          "name": "stdout",
          "text": [
            " ARIMA(1,0,0)(2,0,0)[12] intercept   : AIC=1500.723, Time=0.22 sec\n"
          ]
        },
        {
          "output_type": "stream",
          "name": "stderr",
          "text": [
            "/usr/local/lib/python3.12/dist-packages/sklearn/utils/deprecation.py:151: FutureWarning: 'force_all_finite' was renamed to 'ensure_all_finite' in 1.6 and will be removed in 1.8.\n",
            "  warnings.warn(\n"
          ]
        },
        {
          "output_type": "stream",
          "name": "stdout",
          "text": [
            " ARIMA(1,0,0)(2,0,1)[12] intercept   : AIC=1502.654, Time=0.31 sec\n",
            " ARIMA(1,0,0)(1,0,1)[12] intercept   : AIC=1501.401, Time=0.11 sec\n"
          ]
        },
        {
          "output_type": "stream",
          "name": "stderr",
          "text": [
            "/usr/local/lib/python3.12/dist-packages/sklearn/utils/deprecation.py:151: FutureWarning: 'force_all_finite' was renamed to 'ensure_all_finite' in 1.6 and will be removed in 1.8.\n",
            "  warnings.warn(\n",
            "/usr/local/lib/python3.12/dist-packages/sklearn/utils/deprecation.py:151: FutureWarning: 'force_all_finite' was renamed to 'ensure_all_finite' in 1.6 and will be removed in 1.8.\n",
            "  warnings.warn(\n"
          ]
        },
        {
          "output_type": "stream",
          "name": "stdout",
          "text": [
            " ARIMA(0,0,0)(2,0,0)[12] intercept   : AIC=1598.078, Time=0.15 sec\n"
          ]
        },
        {
          "output_type": "stream",
          "name": "stderr",
          "text": [
            "/usr/local/lib/python3.12/dist-packages/sklearn/utils/deprecation.py:151: FutureWarning: 'force_all_finite' was renamed to 'ensure_all_finite' in 1.6 and will be removed in 1.8.\n",
            "  warnings.warn(\n"
          ]
        },
        {
          "output_type": "stream",
          "name": "stdout",
          "text": [
            " ARIMA(2,0,0)(2,0,0)[12] intercept   : AIC=1502.396, Time=0.33 sec\n"
          ]
        },
        {
          "output_type": "stream",
          "name": "stderr",
          "text": [
            "/usr/local/lib/python3.12/dist-packages/sklearn/utils/deprecation.py:151: FutureWarning: 'force_all_finite' was renamed to 'ensure_all_finite' in 1.6 and will be removed in 1.8.\n",
            "  warnings.warn(\n"
          ]
        },
        {
          "output_type": "stream",
          "name": "stdout",
          "text": [
            " ARIMA(1,0,1)(2,0,0)[12] intercept   : AIC=1503.812, Time=0.24 sec\n",
            " ARIMA(0,0,1)(2,0,0)[12] intercept   : AIC=1575.645, Time=0.17 sec\n"
          ]
        },
        {
          "output_type": "stream",
          "name": "stderr",
          "text": [
            "/usr/local/lib/python3.12/dist-packages/sklearn/utils/deprecation.py:151: FutureWarning: 'force_all_finite' was renamed to 'ensure_all_finite' in 1.6 and will be removed in 1.8.\n",
            "  warnings.warn(\n",
            "/usr/local/lib/python3.12/dist-packages/sklearn/utils/deprecation.py:151: FutureWarning: 'force_all_finite' was renamed to 'ensure_all_finite' in 1.6 and will be removed in 1.8.\n",
            "  warnings.warn(\n"
          ]
        },
        {
          "output_type": "stream",
          "name": "stdout",
          "text": [
            " ARIMA(2,0,1)(2,0,0)[12] intercept   : AIC=1504.155, Time=0.92 sec\n"
          ]
        },
        {
          "output_type": "stream",
          "name": "stderr",
          "text": [
            "/usr/local/lib/python3.12/dist-packages/sklearn/utils/deprecation.py:151: FutureWarning: 'force_all_finite' was renamed to 'ensure_all_finite' in 1.6 and will be removed in 1.8.\n",
            "  warnings.warn(\n"
          ]
        },
        {
          "output_type": "stream",
          "name": "stdout",
          "text": [
            " ARIMA(1,0,0)(2,0,0)[12]             : AIC=inf, Time=0.28 sec\n",
            "\n",
            "Best model:  ARIMA(1,0,0)(2,0,0)[12] intercept\n",
            "Total fit time: 3.390 seconds\n",
            "Melhores parâmetros encontrados: (1, 0, 0)\n"
          ]
        }
      ]
    },
    {
      "cell_type": "code",
      "source": [
        "# 4. Fazer previsões\n",
        "# Fazer previsões para o período de teste\n",
        "predictions = model_fit.predict(n_periods=len(test_data))\n"
      ],
      "metadata": {
        "colab": {
          "base_uri": "https://localhost:8080/"
        },
        "id": "bELZqJ6_PQcb",
        "outputId": "db85e70b-4d9d-46eb-cfa1-258dc2066d7a"
      },
      "execution_count": null,
      "outputs": [
        {
          "output_type": "stream",
          "name": "stderr",
          "text": [
            "/usr/local/lib/python3.12/dist-packages/sklearn/utils/deprecation.py:151: FutureWarning: 'force_all_finite' was renamed to 'ensure_all_finite' in 1.6 and will be removed in 1.8.\n",
            "  warnings.warn(\n"
          ]
        }
      ]
    },
    {
      "cell_type": "code",
      "source": [
        "# Criar um DataFrame para facilitar a avaliação\n",
        "predictions_df = pd.DataFrame(predictions, index=test_data.index)\n",
        "predictions_df.columns = ['producao_predita']"
      ],
      "metadata": {
        "id": "wSTbnUqaPSsm"
      },
      "execution_count": null,
      "outputs": []
    },
    {
      "cell_type": "code",
      "source": [
        "# 5. Avaliar o desempenho do modelo\n",
        "# Calcular as métricas\n",
        "mae_arima = mean_absolute_error(test_data, predictions)\n",
        "mse_arima = mean_squared_error(test_data, predictions)\n",
        "rmse_arima = np.sqrt(mse_arima)\n",
        "r2_arima = r2_score(test_data, predictions)\n",
        "mape_arima = np.mean(np.abs((test_data - predictions) / test_data)) * 100"
      ],
      "metadata": {
        "id": "OKjytglPPVqA"
      },
      "execution_count": null,
      "outputs": []
    },
    {
      "cell_type": "code",
      "source": [
        "# Imprimir os resultados\n",
        "print(\"\\nResultados de desempenho do modelo ARIMA:\")\n",
        "print(\"-\" * 40)\n",
        "print(f\"1. Erro Médio Absoluto (MAE): {mae_arima:.2f}\")\n",
        "print(f\"2. Erro Quadrático Médio (MSE): {mse_arima:.2f}\")\n",
        "print(f\"3. Raiz do Erro Quadrático Médio (RMSE): {rmse_arima:.2f}\")\n",
        "print(f\"4. Coeficiente de Determinação (R-quadrado): {r2_arima:.2f}\")\n",
        "print(\"-\" * 40)\n",
        "print(f\"Erro Percentual Médio Absoluto (MAPE): {mape_arima:.2f}%\")"
      ],
      "metadata": {
        "colab": {
          "base_uri": "https://localhost:8080/"
        },
        "id": "_DejgCl6PXog",
        "outputId": "29cf9cac-4167-47cd-ecf6-c171a0a2f5c4"
      },
      "execution_count": null,
      "outputs": [
        {
          "output_type": "stream",
          "name": "stdout",
          "text": [
            "\n",
            "Resultados de desempenho do modelo ARIMA:\n",
            "----------------------------------------\n",
            "1. Erro Médio Absoluto (MAE): 1036003.78\n",
            "2. Erro Quadrático Médio (MSE): 1130222267060.13\n",
            "3. Raiz do Erro Quadrático Médio (RMSE): 1063119.12\n",
            "4. Coeficiente de Determinação (R-quadrado): -18.41\n",
            "----------------------------------------\n",
            "Erro Percentual Médio Absoluto (MAPE): 5.55%\n"
          ]
        }
      ]
    },
    {
      "cell_type": "markdown",
      "source": [
        "#  Holt-Winters\n"
      ],
      "metadata": {
        "id": "Os9eELyVPiwR"
      }
    },
    {
      "cell_type": "code",
      "source": [
        "# 1. Preparar os dados\n",
        "# Usar apenas a coluna 'producao' para o modelo de série temporal\n",
        "producao_hw = df_soja['producao']"
      ],
      "metadata": {
        "id": "vGZ-AynGPuCu"
      },
      "execution_count": null,
      "outputs": []
    },
    {
      "cell_type": "code",
      "source": [
        "# 2. Dividir os dados em conjuntos de treinamento e teste\n",
        "# Usar os últimos 12 meses (1 ano) para o conjunto de teste, assim como no modelo ARIMA.\n",
        "train_data = producao_hw[:-12]\n",
        "test_data = producao_hw[-12:]"
      ],
      "metadata": {
        "id": "lAcvZmYEPw--"
      },
      "execution_count": null,
      "outputs": []
    },
    {
      "cell_type": "code",
      "source": [
        "# 3. Treinar o modelo Holt-Winters\n",
        "# Instanciar e treinar o modelo de suavização exponencial.\n",
        "# 'trend=\"add\"' indica uma tendência aditiva (constante).\n",
        "# 'seasonal=\"add\"' indica uma sazonalidade aditiva.\n",
        "# 'seasonal_periods=12' indica que o ciclo sazonal é de 12 meses.\n",
        "model_hw = ExponentialSmoothing(train_data, trend='add', seasonal='add', seasonal_periods=12,\n",
        "                                 initialization_method=\"estimated\").fit()"
      ],
      "metadata": {
        "id": "WHBetAaRPxZo"
      },
      "execution_count": null,
      "outputs": []
    },
    {
      "cell_type": "code",
      "source": [
        "# 4. Fazer previsões\n",
        "# Fazer previsões para o período de teste.\n",
        "predictions = model_hw.forecast(steps=len(test_data))"
      ],
      "metadata": {
        "id": "LsCV5OYVP726"
      },
      "execution_count": null,
      "outputs": []
    },
    {
      "cell_type": "code",
      "source": [
        "# 5. Avaliar o desempenho do modelo\n",
        "# Calcular as métricas\n",
        "mae_hw = mean_absolute_error(test_data, predictions)\n",
        "mse_hw = mean_squared_error(test_data, predictions)\n",
        "rmse_hw = np.sqrt(mse_hw)\n",
        "r2_hw = r2_score(test_data, predictions)\n",
        "mape_hw = np.mean(np.abs((test_data - predictions) / test_data)) * 100"
      ],
      "metadata": {
        "id": "hsqqcs1WP90x"
      },
      "execution_count": null,
      "outputs": []
    },
    {
      "cell_type": "code",
      "source": [
        "# Imprimir os resultados\n",
        "print(\"Resultados de desempenho do modelo Holt-Winters:\")\n",
        "print(\"-\" * 40)\n",
        "print(f\"1. Erro Médio Absoluto (MAE): {mae_hw:.2f}\")\n",
        "print(f\"2. Erro Quadrático Médio (MSE): {mse_hw:.2f}\")\n",
        "print(f\"3. Raiz do Erro Quadrático Médio (RMSE): {rmse_hw:.2f}\")\n",
        "print(f\"4. Coeficiente de Determinação (R-quadrado): {r2_hw:.2f}\")\n",
        "print(\"-\" * 40)\n",
        "print(f\"Erro Percentual Médio Absoluto (MAPE): {mape_hw:.2f}%\")"
      ],
      "metadata": {
        "colab": {
          "base_uri": "https://localhost:8080/"
        },
        "id": "tgZGmA4YQAVR",
        "outputId": "0a3a3c69-7520-4367-8a01-14d5bd5b8732"
      },
      "execution_count": null,
      "outputs": [
        {
          "output_type": "stream",
          "name": "stdout",
          "text": [
            "Resultados de desempenho do modelo Holt-Winters:\n",
            "----------------------------------------\n",
            "1. Erro Médio Absoluto (MAE): 4006709.04\n",
            "2. Erro Quadrático Médio (MSE): 16105300709612.13\n",
            "3. Raiz do Erro Quadrático Médio (RMSE): 4013141.00\n",
            "4. Coeficiente de Determinação (R-quadrado): -275.53\n",
            "----------------------------------------\n",
            "Erro Percentual Médio Absoluto (MAPE): 21.52%\n"
          ]
        }
      ]
    },
    {
      "cell_type": "markdown",
      "source": [
        "# Analises Final"
      ],
      "metadata": {
        "id": "SGzK2jNnSCCl"
      }
    },
    {
      "cell_type": "code",
      "source": [
        "# Criar e imprimir a tabela de comparação\n",
        "# -----------------------------------------------------------\n",
        "results = {\n",
        "    'Modelo': ['Random Forest', 'ARIMA', 'Holt-Winters'],\n",
        "    'MAE': [mae_rf, mae_arima, mae_hw],\n",
        "    'RMSE': [rmse_rf, rmse_arima, rmse_hw],\n",
        "    'R-squared': [r2_rf, r2_arima, r2_hw],\n",
        "    'MAPE (%)': [mape_rf, mape_arima, mape_hw]\n",
        "}\n",
        "df_results = pd.DataFrame(results).set_index('Modelo')"
      ],
      "metadata": {
        "id": "_zoo3VAmRyIr"
      },
      "execution_count": null,
      "outputs": []
    },
    {
      "cell_type": "code",
      "source": [
        "print(\"Tabela de Comparação de Desempenho dos Modelos:\")\n",
        "print(\"---\")\n",
        "print(df_results.to_markdown(floatfmt=\".2f\"))"
      ],
      "metadata": {
        "colab": {
          "base_uri": "https://localhost:8080/"
        },
        "id": "Oy8sDRBrSPVy",
        "outputId": "fef61a66-73b5-4e5f-a5c3-f78066a448d9"
      },
      "execution_count": null,
      "outputs": [
        {
          "output_type": "stream",
          "name": "stdout",
          "text": [
            "Tabela de Comparação de Desempenho dos Modelos:\n",
            "---\n",
            "| Modelo        |        MAE |       RMSE |   R-squared |   MAPE (%) |\n",
            "|:--------------|-----------:|-----------:|------------:|-----------:|\n",
            "| Random Forest |  251201.27 |  459984.87 |        0.97 |       1.25 |\n",
            "| ARIMA         | 1036003.78 | 1063119.12 |      -18.41 |       5.55 |\n",
            "| Holt-Winters  | 4006709.04 | 4013141.00 |     -275.53 |      21.52 |\n"
          ]
        }
      ]
    },
    {
      "cell_type": "markdown",
      "source": [
        "# PREVISAO PARA OS PROXIMOS ANOS"
      ],
      "metadata": {
        "id": "2oBKXzsgDNHy"
      }
    },
    {
      "cell_type": "code",
      "source": [
        "# 1. Calcular a média das features para cada mês do último ano completo\n",
        "# Isso nos permite criar previsões mais realistas, mantendo o padrão mensal.\n",
        "df_soja['data'] = pd.to_datetime(df_soja['data'])\n",
        "df_soja['mes'] = df_soja['data'].dt.month\n",
        "\n",
        "medias_por_mes = df_soja.tail(12).groupby('mes')[['plantada', 'colhida', 'rendimento']].mean()\n",
        "\n",
        "# 2. Criar um DataFrame para as previsões futuras por mês e ano\n",
        "previsoes_futuras = []\n",
        "anos_futuros = [2025, 2026, 2027]\n",
        "meses = list(range(1, 13))\n",
        "\n",
        "for ano in anos_futuros:\n",
        "    for mes in meses:\n",
        "        # Obter os valores médios das features para o mês específico\n",
        "        # Se um mês não estiver presente nos dados, usar a média geral\n",
        "        if mes in medias_por_mes.index:\n",
        "            plantada = medias_por_mes.loc[mes, 'plantada']\n",
        "            colhida = medias_por_mes.loc[mes, 'colhida']\n",
        "            rendimento = medias_por_mes.loc[mes, 'rendimento']\n",
        "        else:\n",
        "            plantada = df_soja['plantada'].mean()\n",
        "            colhida = df_soja['colhida'].mean()\n",
        "            rendimento = df_soja['rendimento'].mean()\n",
        "\n",
        "        # Criar os dados de entrada para o modelo\n",
        "        dados_modelo = pd.DataFrame([[plantada, colhida, rendimento, ano]],\n",
        "                                    columns=['plantada', 'colhida', 'rendimento', 'ano'])\n",
        "\n",
        "        # Fazer a previsão\n",
        "        previsao = model_rf.predict(dados_modelo)\n",
        "\n",
        "        previsoes_futuras.append({\n",
        "            'Ano': ano,\n",
        "            'Mês': mes,\n",
        "            'Produção Prevista (toneladas)': previsao[0]\n",
        "        })\n",
        "\n",
        "# Criar um DataFrame a partir dos resultados\n",
        "df_previsoes_mensais = pd.DataFrame(previsoes_futuras)\n",
        "\n",
        "print(\"Previsões de Produção de Soja por Mês (2025-2027):\")\n",
        "print(df_previsoes_mensais.to_markdown(index=False, numalign=\"left\", stralign=\"left\"))\n"
      ],
      "metadata": {
        "id": "c8Hz1eO5DPBP",
        "colab": {
          "base_uri": "https://localhost:8080/"
        },
        "outputId": "413e062f-bd46-46c3-d2db-1bd254d1db28"
      },
      "execution_count": null,
      "outputs": [
        {
          "output_type": "stream",
          "name": "stdout",
          "text": [
            "Previsões de Produção de Soja por Mês (2025-2027):\n",
            "| Ano   | Mês   | Produção Prevista (toneladas)   |\n",
            "|:------|:------|:--------------------------------|\n",
            "| 2025  | 1     | 1.85854e+07                     |\n",
            "| 2025  | 2     | 1.8394e+07                      |\n",
            "| 2025  | 3     | 1.84582e+07                     |\n",
            "| 2025  | 4     | 1.84717e+07                     |\n",
            "| 2025  | 5     | 1.85212e+07                     |\n",
            "| 2025  | 6     | 1.85644e+07                     |\n",
            "| 2025  | 7     | 1.85883e+07                     |\n",
            "| 2025  | 8     | 1.8665e+07                      |\n",
            "| 2025  | 9     | 1.86408e+07                     |\n",
            "| 2025  | 10    | 1.86408e+07                     |\n",
            "| 2025  | 11    | 1.86428e+07                     |\n",
            "| 2025  | 12    | 1.86428e+07                     |\n",
            "| 2026  | 1     | 1.85854e+07                     |\n",
            "| 2026  | 2     | 1.8394e+07                      |\n",
            "| 2026  | 3     | 1.84582e+07                     |\n",
            "| 2026  | 4     | 1.84717e+07                     |\n",
            "| 2026  | 5     | 1.85212e+07                     |\n",
            "| 2026  | 6     | 1.85644e+07                     |\n",
            "| 2026  | 7     | 1.85883e+07                     |\n",
            "| 2026  | 8     | 1.8665e+07                      |\n",
            "| 2026  | 9     | 1.86408e+07                     |\n",
            "| 2026  | 10    | 1.86408e+07                     |\n",
            "| 2026  | 11    | 1.86428e+07                     |\n",
            "| 2026  | 12    | 1.86428e+07                     |\n",
            "| 2027  | 1     | 1.85854e+07                     |\n",
            "| 2027  | 2     | 1.8394e+07                      |\n",
            "| 2027  | 3     | 1.84582e+07                     |\n",
            "| 2027  | 4     | 1.84717e+07                     |\n",
            "| 2027  | 5     | 1.85212e+07                     |\n",
            "| 2027  | 6     | 1.85644e+07                     |\n",
            "| 2027  | 7     | 1.85883e+07                     |\n",
            "| 2027  | 8     | 1.8665e+07                      |\n",
            "| 2027  | 9     | 1.86408e+07                     |\n",
            "| 2027  | 10    | 1.86408e+07                     |\n",
            "| 2027  | 11    | 1.86428e+07                     |\n",
            "| 2027  | 12    | 1.86428e+07                     |\n"
          ]
        }
      ]
    },
    {
      "cell_type": "code",
      "source": [
        "# Salvar as previsões em um arquivo CSV\n",
        "df_previsoes_mensais.to_csv('previsoes_soja_mensais.csv', index=False)\n",
        "print(\"\\nPrevisões salvas em 'previsoes_soja_mensais.csv'\")"
      ],
      "metadata": {
        "id": "Q_6RJ8jrE3zl",
        "outputId": "04144cc9-1bf2-4084-aa98-3350707f7bf6",
        "colab": {
          "base_uri": "https://localhost:8080/"
        }
      },
      "execution_count": null,
      "outputs": [
        {
          "output_type": "stream",
          "name": "stdout",
          "text": [
            "\n",
            "Previsões salvas em 'previsoes_soja_mensais.csv'\n"
          ]
        }
      ]
    }
  ]
}